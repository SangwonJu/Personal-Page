{
 "cells": [
  {
   "cell_type": "markdown",
   "metadata": {},
   "source": [
    "---\n",
    "title: \"Assignment 1\"\n",
    "author: \"Sangwon Ju, SNU GSPA\"\n",
    "date: 'OCT/12/2022'\n",
    "format: \n",
    "    html:\n",
    "        code-overflow: wrap\n",
    "        code-fold: true\n",
    "categories:\n",
    "   \"Machine Learning & Deep Learning for Data Science (2022 Fall)\" \n",
    "image: \"image.png\"\n",
    "---"
   ]
  },
  {
   "attachments": {},
   "cell_type": "markdown",
   "metadata": {},
   "source": [
    "ML Basics, Regression, Probit, Logistic, Softmax, Ridge, Lasso (Score: 96/100)"
   ]
  },
  {
   "attachments": {},
   "cell_type": "markdown",
   "metadata": {},
   "source": [
    "# 0. Loading Packages"
   ]
  },
  {
   "cell_type": "code",
   "execution_count": null,
   "metadata": {},
   "outputs": [],
   "source": [
    "# Loading Packages\n",
    "import os\n",
    "from IPython.display import display, Math, Latex\n",
    "import numpy as np\n",
    "import pandas as pd\n",
    "import seaborn as sns\n",
    "import matplotlib.pyplot as plt\n",
    "import matplotlib as mpl\n",
    "import sklearn.linear_model as skl_lm\n",
    "from scipy.stats import pearsonr\n",
    "from sklearn.metrics import mean_squared_error, r2_score\n",
    "from sklearn.datasets import make_classification\n",
    "from sklearn.model_selection import train_test_split\n",
    "from sklearn.model_selection import KFold\n",
    "from sklearn.model_selection import cross_val_score\n",
    "from sklearn.metrics import mean_squared_error\n",
    "from sklearn.metrics import accuracy_score\n",
    "from sklearn.metrics import r2_score\n",
    "from sklearn.linear_model import LinearRegression\n",
    "from sklearn.linear_model import LogisticRegression\n",
    "from sklearn.linear_model import Ridge\n",
    "from sklearn.linear_model import RidgeCV\n",
    "from sklearn.linear_model import Lasso\n",
    "from sklearn.linear_model import LassoCV\n",
    "from sklearn.preprocessing import StandardScaler\n",
    "import statsmodels.api as sm\n",
    "import statsmodels.formula.api as smf"
   ]
  },
  {
   "cell_type": "markdown",
   "metadata": {},
   "source": [
    "Reference Repositiory: https://github.com/JWarmenhoven/ISLR-python"
   ]
  },
  {
   "cell_type": "markdown",
   "metadata": {},
   "source": [
    "# 1. Question 1\n",
    "[30 pts] In this problem, you will use the Carseats data set attached in the assignment (Carseats.csv) for linear regression.\n"
   ]
  },
  {
   "cell_type": "markdown",
   "metadata": {},
   "source": [
    "## Loading Dataset"
   ]
  },
  {
   "cell_type": "code",
   "execution_count": null,
   "metadata": {},
   "outputs": [
    {
     "name": "stdout",
     "output_type": "stream",
     "text": [
      "Before Directory: e:\\OneDrive - SNU\\(B) 대학원\\수업\\2022 2학기\\데이터사이언스를위한머신러닝과딥러닝\\과제1\n",
      "After Directory: E:\\OneDrive - SNU\\r\n"
     ]
    }
   ],
   "source": [
    "# Set Work Directory\n",
    "print(\"Before Directory: %s\"%os.getcwd())\n",
    "os.chdir(\"E:/OneDrive - SNU/r\")\n",
    "print(\"After Directory: %s\"%os.getcwd())"
   ]
  },
  {
   "cell_type": "code",
   "execution_count": null,
   "metadata": {},
   "outputs": [
    {
     "data": {
      "text/html": [
       "<div>\n",
       "<style scoped>\n",
       "    .dataframe tbody tr th:only-of-type {\n",
       "        vertical-align: middle;\n",
       "    }\n",
       "\n",
       "    .dataframe tbody tr th {\n",
       "        vertical-align: top;\n",
       "    }\n",
       "\n",
       "    .dataframe thead th {\n",
       "        text-align: right;\n",
       "    }\n",
       "</style>\n",
       "<table border=\"1\" class=\"dataframe\">\n",
       "  <thead>\n",
       "    <tr style=\"text-align: right;\">\n",
       "      <th></th>\n",
       "      <th>Sales</th>\n",
       "      <th>CompPrice</th>\n",
       "      <th>Income</th>\n",
       "      <th>Advertising</th>\n",
       "      <th>Population</th>\n",
       "      <th>Price</th>\n",
       "      <th>ShelveLoc</th>\n",
       "      <th>Age</th>\n",
       "      <th>Education</th>\n",
       "      <th>Urban</th>\n",
       "      <th>US</th>\n",
       "    </tr>\n",
       "  </thead>\n",
       "  <tbody>\n",
       "    <tr>\n",
       "      <th>0</th>\n",
       "      <td>9.50</td>\n",
       "      <td>138</td>\n",
       "      <td>73</td>\n",
       "      <td>11</td>\n",
       "      <td>276</td>\n",
       "      <td>120</td>\n",
       "      <td>Bad</td>\n",
       "      <td>42</td>\n",
       "      <td>17</td>\n",
       "      <td>Yes</td>\n",
       "      <td>Yes</td>\n",
       "    </tr>\n",
       "    <tr>\n",
       "      <th>1</th>\n",
       "      <td>11.22</td>\n",
       "      <td>111</td>\n",
       "      <td>48</td>\n",
       "      <td>16</td>\n",
       "      <td>260</td>\n",
       "      <td>83</td>\n",
       "      <td>Good</td>\n",
       "      <td>65</td>\n",
       "      <td>10</td>\n",
       "      <td>Yes</td>\n",
       "      <td>Yes</td>\n",
       "    </tr>\n",
       "    <tr>\n",
       "      <th>2</th>\n",
       "      <td>10.06</td>\n",
       "      <td>113</td>\n",
       "      <td>35</td>\n",
       "      <td>10</td>\n",
       "      <td>269</td>\n",
       "      <td>80</td>\n",
       "      <td>Medium</td>\n",
       "      <td>59</td>\n",
       "      <td>12</td>\n",
       "      <td>Yes</td>\n",
       "      <td>Yes</td>\n",
       "    </tr>\n",
       "    <tr>\n",
       "      <th>3</th>\n",
       "      <td>7.40</td>\n",
       "      <td>117</td>\n",
       "      <td>100</td>\n",
       "      <td>4</td>\n",
       "      <td>466</td>\n",
       "      <td>97</td>\n",
       "      <td>Medium</td>\n",
       "      <td>55</td>\n",
       "      <td>14</td>\n",
       "      <td>Yes</td>\n",
       "      <td>Yes</td>\n",
       "    </tr>\n",
       "    <tr>\n",
       "      <th>4</th>\n",
       "      <td>4.15</td>\n",
       "      <td>141</td>\n",
       "      <td>64</td>\n",
       "      <td>3</td>\n",
       "      <td>340</td>\n",
       "      <td>128</td>\n",
       "      <td>Bad</td>\n",
       "      <td>38</td>\n",
       "      <td>13</td>\n",
       "      <td>Yes</td>\n",
       "      <td>No</td>\n",
       "    </tr>\n",
       "  </tbody>\n",
       "</table>\n",
       "</div>"
      ],
      "text/plain": [
       "   Sales  CompPrice  Income  Advertising  Population  Price ShelveLoc  Age  \\\n",
       "0   9.50        138      73           11         276    120       Bad   42   \n",
       "1  11.22        111      48           16         260     83      Good   65   \n",
       "2  10.06        113      35           10         269     80    Medium   59   \n",
       "3   7.40        117     100            4         466     97    Medium   55   \n",
       "4   4.15        141      64            3         340    128       Bad   38   \n",
       "\n",
       "   Education Urban   US  \n",
       "0         17   Yes  Yes  \n",
       "1         10   Yes  Yes  \n",
       "2         12   Yes  Yes  \n",
       "3         14   Yes  Yes  \n",
       "4         13   Yes   No  "
      ]
     },
     "metadata": {},
     "output_type": "display_data"
    },
    {
     "name": "stdout",
     "output_type": "stream",
     "text": [
      "Total missing variable:  0\n"
     ]
    }
   ],
   "source": [
    "# Read Dataset\n",
    "carseats=pd.read_csv(\"Carseats.csv\")\n",
    "display(carseats.head(5))\n",
    "# Check if there is missing value\n",
    "print(\"Total missing variable: \",carseats.isnull().sum().sum()) # no missing value"
   ]
  },
  {
   "cell_type": "code",
   "execution_count": null,
   "metadata": {},
   "outputs": [
    {
     "name": "stdout",
     "output_type": "stream",
     "text": [
      "<class 'pandas.core.frame.DataFrame'>\n",
      "RangeIndex: 400 entries, 0 to 399\n",
      "Data columns (total 11 columns):\n",
      " #   Column       Non-Null Count  Dtype  \n",
      "---  ------       --------------  -----  \n",
      " 0   Sales        400 non-null    float64\n",
      " 1   CompPrice    400 non-null    int64  \n",
      " 2   Income       400 non-null    int64  \n",
      " 3   Advertising  400 non-null    int64  \n",
      " 4   Population   400 non-null    int64  \n",
      " 5   Price        400 non-null    int64  \n",
      " 6   ShelveLoc    400 non-null    object \n",
      " 7   Age          400 non-null    int64  \n",
      " 8   Education    400 non-null    int64  \n",
      " 9   Urban        400 non-null    object \n",
      " 10  US           400 non-null    object \n",
      "dtypes: float64(1), int64(7), object(3)\n",
      "memory usage: 34.5+ KB\n"
     ]
    }
   ],
   "source": [
    "# Data types\n",
    "carseats.info() "
   ]
  },
  {
   "cell_type": "markdown",
   "metadata": {},
   "source": [
    "## (a) \n",
    "[10 pts] Fit a multiple linear regression model to predict Sales using Price, Urban, and US. Report the R2 of the model."
   ]
  },
  {
   "cell_type": "code",
   "execution_count": null,
   "metadata": {},
   "outputs": [],
   "source": [
    "# Sales: float, Price: income, Urban and US: Categorical variable\n",
    "carseats.US=pd.Categorical(carseats.US, categories=[\"No\", \"Yes\"])\n",
    "carseats.Urban=pd.Categorical(carseats.Urban, categories=[\"No\", \"Yes\"])\n"
   ]
  },
  {
   "cell_type": "code",
   "execution_count": null,
   "metadata": {},
   "outputs": [
    {
     "data": {
      "text/html": [
       "<table class=\"simpletable\">\n",
       "<caption>OLS Regression Results</caption>\n",
       "<tr>\n",
       "  <th>Dep. Variable:</th>          <td>Sales</td>      <th>  R-squared:         </th> <td>   0.239</td>\n",
       "</tr>\n",
       "<tr>\n",
       "  <th>Model:</th>                   <td>OLS</td>       <th>  Adj. R-squared:    </th> <td>   0.234</td>\n",
       "</tr>\n",
       "<tr>\n",
       "  <th>Method:</th>             <td>Least Squares</td>  <th>  F-statistic:       </th> <td>   41.52</td>\n",
       "</tr>\n",
       "<tr>\n",
       "  <th>Date:</th>             <td>Sun, 09 Oct 2022</td> <th>  Prob (F-statistic):</th> <td>2.39e-23</td>\n",
       "</tr>\n",
       "<tr>\n",
       "  <th>Time:</th>                 <td>09:07:43</td>     <th>  Log-Likelihood:    </th> <td> -927.66</td>\n",
       "</tr>\n",
       "<tr>\n",
       "  <th>No. Observations:</th>      <td>   400</td>      <th>  AIC:               </th> <td>   1863.</td>\n",
       "</tr>\n",
       "<tr>\n",
       "  <th>Df Residuals:</th>          <td>   396</td>      <th>  BIC:               </th> <td>   1879.</td>\n",
       "</tr>\n",
       "<tr>\n",
       "  <th>Df Model:</th>              <td>     3</td>      <th>                     </th>     <td> </td>   \n",
       "</tr>\n",
       "<tr>\n",
       "  <th>Covariance Type:</th>      <td>nonrobust</td>    <th>                     </th>     <td> </td>   \n",
       "</tr>\n",
       "</table>\n",
       "<table class=\"simpletable\">\n",
       "<tr>\n",
       "        <td></td>          <th>coef</th>     <th>std err</th>      <th>t</th>      <th>P>|t|</th>  <th>[0.025</th>    <th>0.975]</th>  \n",
       "</tr>\n",
       "<tr>\n",
       "  <th>Intercept</th>    <td>   13.0435</td> <td>    0.651</td> <td>   20.036</td> <td> 0.000</td> <td>   11.764</td> <td>   14.323</td>\n",
       "</tr>\n",
       "<tr>\n",
       "  <th>Urban[T.Yes]</th> <td>   -0.0219</td> <td>    0.272</td> <td>   -0.081</td> <td> 0.936</td> <td>   -0.556</td> <td>    0.512</td>\n",
       "</tr>\n",
       "<tr>\n",
       "  <th>US[T.Yes]</th>    <td>    1.2006</td> <td>    0.259</td> <td>    4.635</td> <td> 0.000</td> <td>    0.691</td> <td>    1.710</td>\n",
       "</tr>\n",
       "<tr>\n",
       "  <th>Price</th>        <td>   -0.0545</td> <td>    0.005</td> <td>  -10.389</td> <td> 0.000</td> <td>   -0.065</td> <td>   -0.044</td>\n",
       "</tr>\n",
       "</table>\n",
       "<table class=\"simpletable\">\n",
       "<tr>\n",
       "  <th>Omnibus:</th>       <td> 0.676</td> <th>  Durbin-Watson:     </th> <td>   1.912</td>\n",
       "</tr>\n",
       "<tr>\n",
       "  <th>Prob(Omnibus):</th> <td> 0.713</td> <th>  Jarque-Bera (JB):  </th> <td>   0.758</td>\n",
       "</tr>\n",
       "<tr>\n",
       "  <th>Skew:</th>          <td> 0.093</td> <th>  Prob(JB):          </th> <td>   0.684</td>\n",
       "</tr>\n",
       "<tr>\n",
       "  <th>Kurtosis:</th>      <td> 2.897</td> <th>  Cond. No.          </th> <td>    628.</td>\n",
       "</tr>\n",
       "</table><br/><br/>Notes:<br/>[1] Standard Errors assume that the covariance matrix of the errors is correctly specified."
      ],
      "text/plain": [
       "<class 'statsmodels.iolib.summary.Summary'>\n",
       "\"\"\"\n",
       "                            OLS Regression Results                            \n",
       "==============================================================================\n",
       "Dep. Variable:                  Sales   R-squared:                       0.239\n",
       "Model:                            OLS   Adj. R-squared:                  0.234\n",
       "Method:                 Least Squares   F-statistic:                     41.52\n",
       "Date:                Sun, 09 Oct 2022   Prob (F-statistic):           2.39e-23\n",
       "Time:                        09:07:43   Log-Likelihood:                -927.66\n",
       "No. Observations:                 400   AIC:                             1863.\n",
       "Df Residuals:                     396   BIC:                             1879.\n",
       "Df Model:                           3                                         \n",
       "Covariance Type:            nonrobust                                         \n",
       "================================================================================\n",
       "                   coef    std err          t      P>|t|      [0.025      0.975]\n",
       "--------------------------------------------------------------------------------\n",
       "Intercept       13.0435      0.651     20.036      0.000      11.764      14.323\n",
       "Urban[T.Yes]    -0.0219      0.272     -0.081      0.936      -0.556       0.512\n",
       "US[T.Yes]        1.2006      0.259      4.635      0.000       0.691       1.710\n",
       "Price           -0.0545      0.005    -10.389      0.000      -0.065      -0.044\n",
       "==============================================================================\n",
       "Omnibus:                        0.676   Durbin-Watson:                   1.912\n",
       "Prob(Omnibus):                  0.713   Jarque-Bera (JB):                0.758\n",
       "Skew:                           0.093   Prob(JB):                        0.684\n",
       "Kurtosis:                       2.897   Cond. No.                         628.\n",
       "==============================================================================\n",
       "\n",
       "Notes:\n",
       "[1] Standard Errors assume that the covariance matrix of the errors is correctly specified.\n",
       "\"\"\""
      ]
     },
     "execution_count": 6,
     "metadata": {},
     "output_type": "execute_result"
    }
   ],
   "source": [
    "# Fit a multiple linear regression model\n",
    "estimate = smf.ols('Sales ~  Urban + US + Price', carseats).fit()\n",
    "estimate.summary()"
   ]
  },
  {
   "cell_type": "code",
   "execution_count": null,
   "metadata": {},
   "outputs": [
    {
     "name": "stdout",
     "output_type": "stream",
     "text": [
      "R^2:  0.239\n"
     ]
    }
   ],
   "source": [
    "# Report R^2 of the model\n",
    "print('R^2: ', round(estimate.rsquared,3))"
   ]
  },
  {
   "cell_type": "markdown",
   "metadata": {},
   "source": [
    "## (b) \n",
    "[5 pts] Write out the model in equation form, being careful to handle the qualitative variables properly. Provide an interpretation of each coefficient in the model."
   ]
  },
  {
   "cell_type": "markdown",
   "metadata": {},
   "source": [
    "$$ Y= \\beta_0 + \\beta_1 X_1 + \\beta_2 X_2 + \\beta_3 X_3 + \\epsilon \\,, \\epsilon \\sim \\,iid  \\, N(0,\\sigma^2)  $$ \n",
    "$$ E(Y)= 13.0435 - 0.0219 X_1 + 1.2006 X_2 - 0.0545 X_3 $$ \n",
    "\n",
    "where\n",
    "\n",
    "$$ Y = Sales $$\n",
    "\n",
    "$$ \\begin{equation*}\n",
    "X_1 = \\begin{cases}\n",
    "             1  & \\text{if }\\,Urban=Yes \\\\\n",
    "             0  & \\text{if }\\,Urban=No\n",
    "       \\end{cases} \n",
    "\\end{equation*}\n",
    "$$\n",
    "\n",
    "$$\n",
    "\\begin{equation*}\n",
    "X_2 = \\begin{cases}\n",
    "             1  & \\text{if }\\,US=Yes \\\\\n",
    "             0  & \\text{if }\\,US=No\n",
    "       \\end{cases} \n",
    "\\end{equation*} \n",
    "$$\n",
    "\n",
    "$$ X_3 = Price $$"
   ]
  },
  {
   "cell_type": "markdown",
   "metadata": {},
   "source": [
    "* Interpreation of the coefficient\n",
    "1. $\\beta_0$ 13.0435: The overall average value of the Sales is 13.0435, if all other variables are equal to zero ( $ X_1,\\, X_2,\\, X_3 =0$ )\n",
    "2. $\\beta_1$ -0.0219: The average Sales difference between Urban and Non Urban customers is estimated as -0.0219. (Even though the point estimates of the regression coefficient not equal to zero, the parameter estimate is not statistically significant under significance level of 0.05. Can't reject null hypothesis of $\\beta_1=0$)\n",
    "3. $\\beta_2$ 1.2006 : The average Sales difference between US and Non US customers is estimated as 1.2006.\n",
    "4. $\\beta_3$ -0.0545 : Under $X_1,\\, X_2$ (Urban and US dummy) are controlled, the one unit increase in Price results in -0.545 unit of Sales decrease. "
   ]
  },
  {
   "cell_type": "markdown",
   "metadata": {},
   "source": [
    "## (c)\n",
    "[5 pts] For which predictor variable j can you reject the null hypothesis H0 : $β_j$ =\n",
    "0? for which there is evidence of association with the outcome.\n"
   ]
  },
  {
   "cell_type": "markdown",
   "metadata": {},
   "source": [
    "* Under the significance level of 0.05, the parameter $\\beta_1$ estimate for the variable $X_1$ (Urban or Non-Urban) is not statistically significant as p-value is over 0.05 (0.936) and t-statistic is under critical region.\n",
    "\n",
    "* Null: $H_0$: $\\beta_1$ = 0\n",
    "* Alternative: $H_0$: $\\beta_1$ $\\neq$ 0"
   ]
  },
  {
   "cell_type": "markdown",
   "metadata": {},
   "source": [
    "## (d)\n",
    "[10 pts] Obtain 95% confidence intervals for the coefficient(s)."
   ]
  },
  {
   "cell_type": "code",
   "execution_count": null,
   "metadata": {},
   "outputs": [
    {
     "data": {
      "text/html": [
       "<div>\n",
       "<style scoped>\n",
       "    .dataframe tbody tr th:only-of-type {\n",
       "        vertical-align: middle;\n",
       "    }\n",
       "\n",
       "    .dataframe tbody tr th {\n",
       "        vertical-align: top;\n",
       "    }\n",
       "\n",
       "    .dataframe thead th {\n",
       "        text-align: right;\n",
       "    }\n",
       "</style>\n",
       "<table border=\"1\" class=\"dataframe\">\n",
       "  <thead>\n",
       "    <tr style=\"text-align: right;\">\n",
       "      <th></th>\n",
       "      <th>Lower CI</th>\n",
       "      <th>Upper CI</th>\n",
       "    </tr>\n",
       "  </thead>\n",
       "  <tbody>\n",
       "    <tr>\n",
       "      <th>Intercept</th>\n",
       "      <td>11.763597</td>\n",
       "      <td>14.323341</td>\n",
       "    </tr>\n",
       "    <tr>\n",
       "      <th>Urban[T.Yes]</th>\n",
       "      <td>-0.555973</td>\n",
       "      <td>0.512141</td>\n",
       "    </tr>\n",
       "    <tr>\n",
       "      <th>US[T.Yes]</th>\n",
       "      <td>0.691304</td>\n",
       "      <td>1.709841</td>\n",
       "    </tr>\n",
       "    <tr>\n",
       "      <th>Price</th>\n",
       "      <td>-0.064764</td>\n",
       "      <td>-0.044154</td>\n",
       "    </tr>\n",
       "  </tbody>\n",
       "</table>\n",
       "</div>"
      ],
      "text/plain": [
       "               Lower CI   Upper CI\n",
       "Intercept     11.763597  14.323341\n",
       "Urban[T.Yes]  -0.555973   0.512141\n",
       "US[T.Yes]      0.691304   1.709841\n",
       "Price         -0.064764  -0.044154"
      ]
     },
     "execution_count": 8,
     "metadata": {},
     "output_type": "execute_result"
    }
   ],
   "source": [
    "estimate.conf_int(alpha=0.05, cols=None).rename({0: 'Lower CI', 1: 'Upper CI'}, axis='columns')"
   ]
  },
  {
   "cell_type": "markdown",
   "metadata": {},
   "source": [
    "# 2. Question 2\n",
    "In class, we used the example of the logistic regression model to predict the probability of default using income and balance on the Default data set attached in the assignment (Default.csv). In this problem, we will estimate the test error of this logistic regression model using the validation set approach. Do not forget to set a random seed before beginning your analysis."
   ]
  },
  {
   "cell_type": "markdown",
   "metadata": {},
   "source": [
    "## Loading Dataset"
   ]
  },
  {
   "cell_type": "code",
   "execution_count": null,
   "metadata": {},
   "outputs": [
    {
     "data": {
      "text/html": [
       "<div>\n",
       "<style scoped>\n",
       "    .dataframe tbody tr th:only-of-type {\n",
       "        vertical-align: middle;\n",
       "    }\n",
       "\n",
       "    .dataframe tbody tr th {\n",
       "        vertical-align: top;\n",
       "    }\n",
       "\n",
       "    .dataframe thead th {\n",
       "        text-align: right;\n",
       "    }\n",
       "</style>\n",
       "<table border=\"1\" class=\"dataframe\">\n",
       "  <thead>\n",
       "    <tr style=\"text-align: right;\">\n",
       "      <th></th>\n",
       "      <th>default</th>\n",
       "      <th>student</th>\n",
       "      <th>balance</th>\n",
       "      <th>income</th>\n",
       "    </tr>\n",
       "  </thead>\n",
       "  <tbody>\n",
       "    <tr>\n",
       "      <th>0</th>\n",
       "      <td>No</td>\n",
       "      <td>No</td>\n",
       "      <td>729.526495</td>\n",
       "      <td>44361.625074</td>\n",
       "    </tr>\n",
       "    <tr>\n",
       "      <th>1</th>\n",
       "      <td>No</td>\n",
       "      <td>Yes</td>\n",
       "      <td>817.180407</td>\n",
       "      <td>12106.134700</td>\n",
       "    </tr>\n",
       "    <tr>\n",
       "      <th>2</th>\n",
       "      <td>No</td>\n",
       "      <td>No</td>\n",
       "      <td>1073.549164</td>\n",
       "      <td>31767.138947</td>\n",
       "    </tr>\n",
       "    <tr>\n",
       "      <th>3</th>\n",
       "      <td>No</td>\n",
       "      <td>No</td>\n",
       "      <td>529.250605</td>\n",
       "      <td>35704.493935</td>\n",
       "    </tr>\n",
       "    <tr>\n",
       "      <th>4</th>\n",
       "      <td>No</td>\n",
       "      <td>No</td>\n",
       "      <td>785.655883</td>\n",
       "      <td>38463.495879</td>\n",
       "    </tr>\n",
       "  </tbody>\n",
       "</table>\n",
       "</div>"
      ],
      "text/plain": [
       "  default student      balance        income\n",
       "0      No      No   729.526495  44361.625074\n",
       "1      No     Yes   817.180407  12106.134700\n",
       "2      No      No  1073.549164  31767.138947\n",
       "3      No      No   529.250605  35704.493935\n",
       "4      No      No   785.655883  38463.495879"
      ]
     },
     "metadata": {},
     "output_type": "display_data"
    },
    {
     "name": "stdout",
     "output_type": "stream",
     "text": [
      "Total missing variable:  0\n"
     ]
    }
   ],
   "source": [
    "import random\n",
    "random.seed(2022)\n",
    "\n",
    "# Read Dataset\n",
    "default=pd.read_csv(\"Default.csv\")\n",
    "display(default.head(5))\n",
    "# Check if there is missing value\n",
    "print(\"Total missing variable: \", default.isnull().sum().sum()) # no missing value"
   ]
  },
  {
   "cell_type": "markdown",
   "metadata": {},
   "source": [
    "## (a)\n",
    "[10 pts] Fit a logistic regression model that uses income and balance to predict default. Report the log-likelihood of the model."
   ]
  },
  {
   "cell_type": "code",
   "execution_count": null,
   "metadata": {},
   "outputs": [
    {
     "name": "stdout",
     "output_type": "stream",
     "text": [
      "<class 'pandas.core.frame.DataFrame'>\n",
      "RangeIndex: 10000 entries, 0 to 9999\n",
      "Data columns (total 4 columns):\n",
      " #   Column   Non-Null Count  Dtype  \n",
      "---  ------   --------------  -----  \n",
      " 0   default  10000 non-null  object \n",
      " 1   student  10000 non-null  object \n",
      " 2   balance  10000 non-null  float64\n",
      " 3   income   10000 non-null  float64\n",
      "dtypes: float64(2), object(2)\n",
      "memory usage: 312.6+ KB\n"
     ]
    }
   ],
   "source": [
    "default.info()"
   ]
  },
  {
   "cell_type": "code",
   "execution_count": null,
   "metadata": {},
   "outputs": [
    {
     "data": {
      "text/plain": [
       "No     9667\n",
       "Yes     333\n",
       "Name: default, dtype: int64"
      ]
     },
     "metadata": {},
     "output_type": "display_data"
    },
    {
     "data": {
      "text/plain": [
       "No     7056\n",
       "Yes    2944\n",
       "Name: student, dtype: int64"
      ]
     },
     "metadata": {},
     "output_type": "display_data"
    }
   ],
   "source": [
    "display(default['default'].value_counts())\n",
    "display(default['student'].value_counts())"
   ]
  },
  {
   "cell_type": "code",
   "execution_count": null,
   "metadata": {},
   "outputs": [
    {
     "data": {
      "text/plain": [
       "0    9667\n",
       "1     333\n",
       "Name: default, dtype: int64"
      ]
     },
     "metadata": {},
     "output_type": "display_data"
    },
    {
     "data": {
      "text/plain": [
       "0    7056\n",
       "1    2944\n",
       "Name: student, dtype: int64"
      ]
     },
     "metadata": {},
     "output_type": "display_data"
    }
   ],
   "source": [
    "# Make dummy variable - No=0, Yes=1\n",
    "default.default=pd.get_dummies(default.default, drop_first=True)\n",
    "default.student=pd.get_dummies(default.student, drop_first=True)\n",
    "display(default['default'].value_counts())\n",
    "display(default['student'].value_counts())"
   ]
  },
  {
   "cell_type": "code",
   "execution_count": null,
   "metadata": {},
   "outputs": [
    {
     "data": {
      "image/png": "[encoded data removed]",
      "text/plain": [
       "<Figure size 720x360 with 2 Axes>"
      ]
     },
     "metadata": {
      "needs_background": "light"
     },
     "output_type": "display_data"
    }
   ],
   "source": [
    "fig = plt.figure(figsize=(10,5))\n",
    "gs = mpl.gridspec.GridSpec(1, 2)\n",
    "ax1 = plt.subplot(gs[0])\n",
    "ax2 = plt.subplot(gs[1])\n",
    "\n",
    "pal = {0 :'red', 1:'blue'}\n",
    "sns.boxplot(x='default', y='balance', data=default, orient='vertical', ax=ax1, palette=pal)\n",
    "sns.boxplot(x='default', y='income', data=default, orient='vertical', ax=ax2, palette=pal)\n",
    "gs.tight_layout(plt.gcf())\n",
    "\n"
   ]
  },
  {
   "cell_type": "code",
   "execution_count": null,
   "metadata": {},
   "outputs": [
    {
     "name": "stdout",
     "output_type": "stream",
     "text": [
      "Optimization terminated successfully.\n",
      "         Current function value: 0.078948\n",
      "         Iterations 10\n"
     ]
    },
    {
     "data": {
      "text/html": [
       "<table class=\"simpletable\">\n",
       "<caption>Logit Regression Results</caption>\n",
       "<tr>\n",
       "  <th>Dep. Variable:</th>        <td>default</td>     <th>  No. Observations:  </th>   <td> 10000</td>  \n",
       "</tr>\n",
       "<tr>\n",
       "  <th>Model:</th>                 <td>Logit</td>      <th>  Df Residuals:      </th>   <td>  9997</td>  \n",
       "</tr>\n",
       "<tr>\n",
       "  <th>Method:</th>                 <td>MLE</td>       <th>  Df Model:          </th>   <td>     2</td>  \n",
       "</tr>\n",
       "<tr>\n",
       "  <th>Date:</th>            <td>Sun, 09 Oct 2022</td> <th>  Pseudo R-squ.:     </th>   <td>0.4594</td>  \n",
       "</tr>\n",
       "<tr>\n",
       "  <th>Time:</th>                <td>09:07:44</td>     <th>  Log-Likelihood:    </th>  <td> -789.48</td> \n",
       "</tr>\n",
       "<tr>\n",
       "  <th>converged:</th>             <td>True</td>       <th>  LL-Null:           </th>  <td> -1460.3</td> \n",
       "</tr>\n",
       "<tr>\n",
       "  <th>Covariance Type:</th>     <td>nonrobust</td>    <th>  LLR p-value:       </th> <td>4.541e-292</td>\n",
       "</tr>\n",
       "</table>\n",
       "<table class=\"simpletable\">\n",
       "<tr>\n",
       "      <td></td>         <th>coef</th>     <th>std err</th>      <th>z</th>      <th>P>|z|</th>  <th>[0.025</th>    <th>0.975]</th>  \n",
       "</tr>\n",
       "<tr>\n",
       "  <th>Intercept</th> <td>  -11.5405</td> <td>    0.435</td> <td>  -26.544</td> <td> 0.000</td> <td>  -12.393</td> <td>  -10.688</td>\n",
       "</tr>\n",
       "<tr>\n",
       "  <th>income</th>    <td> 2.081e-05</td> <td> 4.99e-06</td> <td>    4.174</td> <td> 0.000</td> <td>  1.1e-05</td> <td> 3.06e-05</td>\n",
       "</tr>\n",
       "<tr>\n",
       "  <th>balance</th>   <td>    0.0056</td> <td>    0.000</td> <td>   24.835</td> <td> 0.000</td> <td>    0.005</td> <td>    0.006</td>\n",
       "</tr>\n",
       "</table><br/><br/>Possibly complete quasi-separation: A fraction 0.14 of observations can be<br/>perfectly predicted. This might indicate that there is complete<br/>quasi-separation. In this case some parameters will not be identified."
      ],
      "text/plain": [
       "<class 'statsmodels.iolib.summary.Summary'>\n",
       "\"\"\"\n",
       "                           Logit Regression Results                           \n",
       "==============================================================================\n",
       "Dep. Variable:                default   No. Observations:                10000\n",
       "Model:                          Logit   Df Residuals:                     9997\n",
       "Method:                           MLE   Df Model:                            2\n",
       "Date:                Sun, 09 Oct 2022   Pseudo R-squ.:                  0.4594\n",
       "Time:                        09:07:44   Log-Likelihood:                -789.48\n",
       "converged:                       True   LL-Null:                       -1460.3\n",
       "Covariance Type:            nonrobust   LLR p-value:                4.541e-292\n",
       "==============================================================================\n",
       "                 coef    std err          z      P>|z|      [0.025      0.975]\n",
       "------------------------------------------------------------------------------\n",
       "Intercept    -11.5405      0.435    -26.544      0.000     -12.393     -10.688\n",
       "income      2.081e-05   4.99e-06      4.174      0.000     1.1e-05    3.06e-05\n",
       "balance        0.0056      0.000     24.835      0.000       0.005       0.006\n",
       "==============================================================================\n",
       "\n",
       "Possibly complete quasi-separation: A fraction 0.14 of observations can be\n",
       "perfectly predicted. This might indicate that there is complete\n",
       "quasi-separation. In this case some parameters will not be identified.\n",
       "\"\"\""
      ]
     },
     "execution_count": 14,
     "metadata": {},
     "output_type": "execute_result"
    }
   ],
   "source": [
    "estimate2 = smf.logit('default ~  income + balance', data=default).fit()\n",
    "estimate2.summary()"
   ]
  },
  {
   "cell_type": "code",
   "execution_count": null,
   "metadata": {},
   "outputs": [
    {
     "name": "stdout",
     "output_type": "stream",
     "text": [
      "Log-likelihood of logit model:  -789.483\n"
     ]
    }
   ],
   "source": [
    "print(\"Log-likelihood of logit model: \", round(estimate2.llf,3))"
   ]
  },
  {
   "cell_type": "code",
   "execution_count": null,
   "metadata": {},
   "outputs": [
    {
     "data": {
      "text/plain": [
       "Intercept   -11.540468\n",
       "income        0.000021\n",
       "balance       0.005647\n",
       "dtype: float64"
      ]
     },
     "execution_count": 16,
     "metadata": {},
     "output_type": "execute_result"
    }
   ],
   "source": [
    "estimate2.params"
   ]
  },
  {
   "cell_type": "code",
   "execution_count": null,
   "metadata": {},
   "outputs": [
    {
     "data": {
      "text/html": [
       "<div>\n",
       "<style scoped>\n",
       "    .dataframe tbody tr th:only-of-type {\n",
       "        vertical-align: middle;\n",
       "    }\n",
       "\n",
       "    .dataframe tbody tr th {\n",
       "        vertical-align: top;\n",
       "    }\n",
       "\n",
       "    .dataframe thead th {\n",
       "        text-align: right;\n",
       "    }\n",
       "</style>\n",
       "<table border=\"1\" class=\"dataframe\">\n",
       "  <thead>\n",
       "    <tr style=\"text-align: right;\">\n",
       "      <th></th>\n",
       "      <th>Odds Ratio</th>\n",
       "      <th>Lower CI</th>\n",
       "      <th>Upper CI</th>\n",
       "    </tr>\n",
       "  </thead>\n",
       "  <tbody>\n",
       "    <tr>\n",
       "      <th>Intercept</th>\n",
       "      <td>0.000010</td>\n",
       "      <td>0.000004</td>\n",
       "      <td>0.000023</td>\n",
       "    </tr>\n",
       "    <tr>\n",
       "      <th>income</th>\n",
       "      <td>1.000021</td>\n",
       "      <td>1.000011</td>\n",
       "      <td>1.000031</td>\n",
       "    </tr>\n",
       "    <tr>\n",
       "      <th>balance</th>\n",
       "      <td>1.005663</td>\n",
       "      <td>1.005215</td>\n",
       "      <td>1.006111</td>\n",
       "    </tr>\n",
       "  </tbody>\n",
       "</table>\n",
       "</div>"
      ],
      "text/plain": [
       "           Odds Ratio  Lower CI  Upper CI\n",
       "Intercept    0.000010  0.000004  0.000023\n",
       "income       1.000021  1.000011  1.000031\n",
       "balance      1.005663  1.005215  1.006111"
      ]
     },
     "metadata": {},
     "output_type": "display_data"
    },
    {
     "name": "stdout",
     "output_type": "stream",
     "text": [
      "p_o:  9.728234005e-06\n"
     ]
    }
   ],
   "source": [
    "# Calculate Odds\n",
    "odds_ratio = pd.DataFrame( {\"Odds Ratio\": estimate2.params,\"Lower CI\": estimate2.conf_int()[0],\"Upper CI\": estimate2.conf_int()[1]})\n",
    "odds_ratio = np.exp(odds_ratio)\n",
    "display (odds_ratio)\n",
    "intercept=odds_ratio.iloc[0,0]\n",
    "P = (intercept) / (1 + intercept) \n",
    "print(\"p_o: \", round(P,15)) "
   ]
  },
  {
   "cell_type": "code",
   "execution_count": null,
   "metadata": {},
   "outputs": [
    {
     "data": {
      "text/plain": [
       "9.728328644686842e-06"
      ]
     },
     "execution_count": 18,
     "metadata": {},
     "output_type": "execute_result"
    }
   ],
   "source": [
    "odds_ratio.iloc[0,0]"
   ]
  },
  {
   "cell_type": "markdown",
   "metadata": {},
   "source": [
    "## (b) \n",
    "[5 pts] Write out the model in equation form and provide an interpretation of each coefficient in the trained model."
   ]
  },
  {
   "cell_type": "markdown",
   "metadata": {},
   "source": [
    "$$ P(Y=1|X_1, X_2) = p = \\frac{\\exp(\\beta_0 + \\beta_1 X_1 + \\beta_2 X_2 )}{1 + \\exp (\\beta_0 + \\beta_1 X_1 + \\beta_2 X_2 )}  $$ \n",
    "$$ \\ln(\\frac{p}{1-p}) = \\beta_0 + \\beta_1 X_1 + \\beta_2 X_2  = -11.5405 + 0.00002 X_1 + 0.0056 X_2  $$\n",
    "\n",
    "where\n",
    "\n",
    "$$\n",
    "\\begin{equation*}\n",
    "Y = \\begin{cases}\n",
    "             1  & \\text{if }\\,Default=Yes \\\\\n",
    "             0  & \\text{if }\\,Default=No \\\\\n",
    "       \\end{cases} \n",
    "\\end{equation*} \\quad\n",
    "$$\n",
    "$$\n",
    "X_1 = Income,\\,X_2 = Balance\n",
    "$$\n"
   ]
  },
  {
   "cell_type": "markdown",
   "metadata": {},
   "source": [
    "* Interpreation of the coefficient\n",
    "1. $\\beta_0$= -11.5405 (odds ratio: 0.000010): The probability of having the outcome Default is 0.00000972823, if all other variables are equal to zero ($ X_1, \\, X_2 = 0 $) \n",
    "2. $\\beta_1$= 0.00002 (odds ratio: 1.000021): The one unit increase in Income, results in 1.000021 times increase in odds ratio of Default (increases odds of default by 0.0021%)\n",
    "3. $\\beta_2$= 0.0056 (odds ratio: 1.005663): The one unit increase in Balance, results in 1.005663 times increase in odds ratio of Default (increases odds of default by 0.5663%)"
   ]
  },
  {
   "cell_type": "markdown",
   "metadata": {},
   "source": [
    "## (c) \n",
    "[5 pts] Perform 5-fold cross-validation using the model in Part (a), and estimate the test error of this model."
   ]
  },
  {
   "cell_type": "code",
   "execution_count": null,
   "metadata": {},
   "outputs": [],
   "source": [
    "x = np.array(default.loc[ : , ['income','balance']]) # make array\n",
    "y = default.loc[:,'default']\n",
    "\n",
    "# Five-Fold cross-validation\n",
    "k_fold=KFold(n_splits = 5, shuffle = True, random_state=2022)"
   ]
  },
  {
   "cell_type": "markdown",
   "metadata": {},
   "source": [
    "Test error was calculated using Mean Squared Error\n",
    "$$ \\text {Test Error of 5 folds: } CV_5 = \\sum_{k=1}^{5} \\frac{n_k}{n} MSE_k $$\n"
   ]
  },
  {
   "cell_type": "code",
   "execution_count": null,
   "metadata": {},
   "outputs": [
    {
     "name": "stdout",
     "output_type": "stream",
     "text": [
      "The test error of each five folds:  [0.031 0.025 0.026 0.029 0.031]\n"
     ]
    }
   ],
   "source": [
    "test_error = []\n",
    "\n",
    "for train_index, test_index in k_fold.split(x):\n",
    "    x_train, x_test = x[train_index], x[test_index]\n",
    "    y_train, y_test = y[train_index], y[test_index]\n",
    "\n",
    "    model = LogisticRegression() # Logistic Regression\n",
    "    model.fit(x_train, y_train) # Model Training\n",
    "    y_test_pred = model.predict(x_test) \n",
    "    test_error.append(1-accuracy_score(y_test_pred, y_test)) # Test Error of each five folds\n",
    "\n",
    "# Estimating Test Error\n",
    "print(\"The test error of each five folds: \", np.round(test_error,3))"
   ]
  },
  {
   "cell_type": "code",
   "execution_count": null,
   "metadata": {},
   "outputs": [],
   "source": [
    "model = LogisticRegression() # Logistic Regression\n",
    "test_error=cross_val_score(model, x, y, cv=k_fold, scoring='neg_mean_squared_error', n_jobs=-1)\n"
   ]
  },
  {
   "cell_type": "code",
   "execution_count": null,
   "metadata": {},
   "outputs": [
    {
     "name": "stdout",
     "output_type": "stream",
     "text": [
      "The observations per each split:  [2000, 2000, 2000, 2000, 2000]\n",
      "Test error of cross validation 0.0286\n"
     ]
    }
   ],
   "source": [
    "size=[]\n",
    "for train_index, test_index in k_fold.split(x):\n",
    "    size.append(np.size(test_index))\n",
    "print(\"The observations per each split: \", size)\n",
    "\n",
    "# Using formula\n",
    "testerror=[]\n",
    "for folds in np.arange(0,5):\n",
    "    testerror.append(np.negative(test_error)[folds]*size[folds])\n",
    "testerrorvalue=round(sum(testerror)/len(default),4)\n",
    "print(\"Test error of cross validation\", testerrorvalue)"
   ]
  },
  {
   "cell_type": "markdown",
   "metadata": {},
   "source": [
    "## (d)\n",
    "[10 pts] Now consider a logistic regression model that predicts the probability of default using income, balance, and a dummy variable for student. Estimate the test error for this model using the 5-fold cross-validation set approach. Comment on whether or not including a dummy variable for student would lead to a reduction in the test error rate.\n"
   ]
  },
  {
   "cell_type": "code",
   "execution_count": null,
   "metadata": {},
   "outputs": [],
   "source": [
    "x1 = default.loc[ : , ['income','balance','student']] # make array\n",
    "y1 = default.loc[:,'default']\n",
    "\n",
    "# Five-Fold cross-validation\n",
    "k_fold=KFold(n_splits = 5, shuffle = True,random_state=2022)"
   ]
  },
  {
   "cell_type": "code",
   "execution_count": null,
   "metadata": {},
   "outputs": [],
   "source": [
    "model = LogisticRegression() # Logistic Regression\n",
    "test_error_withstu=cross_val_score(model, x1, y1, cv=k_fold, scoring='neg_mean_squared_error', n_jobs=-1)"
   ]
  },
  {
   "cell_type": "code",
   "execution_count": null,
   "metadata": {},
   "outputs": [
    {
     "name": "stdout",
     "output_type": "stream",
     "text": [
      "The observations per each split:  [2000, 2000, 2000, 2000, 2000]\n",
      "Test error of cross validation with students 0.0317\n"
     ]
    }
   ],
   "source": [
    "size=[]\n",
    "for train_index, test_index in k_fold.split(x):\n",
    "    size.append(np.size(test_index))\n",
    "print(\"The observations per each split: \", size)\n",
    "\n",
    "# Using formula\n",
    "testerror=[]\n",
    "for folds in np.arange(0,5):\n",
    "    testerror.append(np.negative(test_error_withstu)[folds]*size[folds])\n",
    "testerrorvalue_withstudents=round(sum(testerror)/len(default),4)\n",
    "print(\"Test error of cross validation with students\", testerrorvalue_withstudents)"
   ]
  },
  {
   "cell_type": "markdown",
   "metadata": {},
   "source": [
    "Including a dummy variable for student would lead to almost no change in the test error rate. \n",
    "- Firstly, the strong negative linear correlation between student and income is statistically significant. Since the two variables are linearly correlatedm, even if the varaible student is inserted to the model it would lead to minor improvement in model prediction. (most of the areas that variable student can explain is also can be explained by variable income) \n",
    "- Secondly, the model's predictive ability would be negatively affected by statistically learning from train-dataset. Being a student and whether client would be default is correlated and it is statistically significant. As we use generalized linear model there is high possibility that \"multicollinearity\" would make parameter estimate unstable.\n",
    "\n",
    "- As expected, the test error value with student variable is little(0.0001) higher than without student varaible. "
   ]
  },
  {
   "cell_type": "code",
   "execution_count": null,
   "metadata": {},
   "outputs": [
    {
     "name": "stdout",
     "output_type": "stream",
     "text": [
      "Test error of cross validation 0.0286\n",
      "Test error of cross validation with students 0.0317\n"
     ]
    },
    {
     "data": {
      "text/html": [
       "<div>\n",
       "<style scoped>\n",
       "    .dataframe tbody tr th:only-of-type {\n",
       "        vertical-align: middle;\n",
       "    }\n",
       "\n",
       "    .dataframe tbody tr th {\n",
       "        vertical-align: top;\n",
       "    }\n",
       "\n",
       "    .dataframe thead th {\n",
       "        text-align: right;\n",
       "    }\n",
       "</style>\n",
       "<table border=\"1\" class=\"dataframe\">\n",
       "  <thead>\n",
       "    <tr style=\"text-align: right;\">\n",
       "      <th></th>\n",
       "      <th>default</th>\n",
       "      <th>student</th>\n",
       "      <th>balance</th>\n",
       "      <th>income</th>\n",
       "    </tr>\n",
       "  </thead>\n",
       "  <tbody>\n",
       "    <tr>\n",
       "      <th>default</th>\n",
       "      <td>1.0***</td>\n",
       "      <td>0.04***</td>\n",
       "      <td>0.35***</td>\n",
       "      <td>-0.02**</td>\n",
       "    </tr>\n",
       "    <tr>\n",
       "      <th>student</th>\n",
       "      <td>0.04***</td>\n",
       "      <td>1.0***</td>\n",
       "      <td>0.2***</td>\n",
       "      <td>-0.75***</td>\n",
       "    </tr>\n",
       "    <tr>\n",
       "      <th>balance</th>\n",
       "      <td>0.35***</td>\n",
       "      <td>0.2***</td>\n",
       "      <td>1.0***</td>\n",
       "      <td>-0.15***</td>\n",
       "    </tr>\n",
       "    <tr>\n",
       "      <th>income</th>\n",
       "      <td>-0.02**</td>\n",
       "      <td>-0.75***</td>\n",
       "      <td>-0.15***</td>\n",
       "      <td>1.0***</td>\n",
       "    </tr>\n",
       "  </tbody>\n",
       "</table>\n",
       "</div>"
      ],
      "text/plain": [
       "         default   student   balance    income\n",
       "default   1.0***   0.04***   0.35***   -0.02**\n",
       "student  0.04***    1.0***    0.2***  -0.75***\n",
       "balance  0.35***    0.2***    1.0***  -0.15***\n",
       "income   -0.02**  -0.75***  -0.15***    1.0***"
      ]
     },
     "metadata": {},
     "output_type": "display_data"
    },
    {
     "name": "stdout",
     "output_type": "stream",
     "text": [
      "Optimization terminated successfully.\n",
      "         Current function value: 0.078577\n",
      "         Iterations 10\n"
     ]
    },
    {
     "data": {
      "text/html": [
       "<div>\n",
       "<style scoped>\n",
       "    .dataframe tbody tr th:only-of-type {\n",
       "        vertical-align: middle;\n",
       "    }\n",
       "\n",
       "    .dataframe tbody tr th {\n",
       "        vertical-align: top;\n",
       "    }\n",
       "\n",
       "    .dataframe thead th {\n",
       "        text-align: right;\n",
       "    }\n",
       "</style>\n",
       "<table border=\"1\" class=\"dataframe\">\n",
       "  <thead>\n",
       "    <tr style=\"text-align: right;\">\n",
       "      <th></th>\n",
       "      <th>Coef.</th>\n",
       "      <th>Std.Err.</th>\n",
       "      <th>z</th>\n",
       "      <th>P&gt;|z|</th>\n",
       "      <th>[0.025</th>\n",
       "      <th>0.975]</th>\n",
       "    </tr>\n",
       "  </thead>\n",
       "  <tbody>\n",
       "    <tr>\n",
       "      <th>Intercept</th>\n",
       "      <td>-10.869045</td>\n",
       "      <td>0.492273</td>\n",
       "      <td>-22.079320</td>\n",
       "      <td>4.995499e-108</td>\n",
       "      <td>-11.833882</td>\n",
       "      <td>-9.904209</td>\n",
       "    </tr>\n",
       "    <tr>\n",
       "      <th>income</th>\n",
       "      <td>0.000003</td>\n",
       "      <td>0.000008</td>\n",
       "      <td>0.369808</td>\n",
       "      <td>7.115254e-01</td>\n",
       "      <td>-0.000013</td>\n",
       "      <td>0.000019</td>\n",
       "    </tr>\n",
       "    <tr>\n",
       "      <th>balance</th>\n",
       "      <td>0.005737</td>\n",
       "      <td>0.000232</td>\n",
       "      <td>24.736506</td>\n",
       "      <td>4.331521e-135</td>\n",
       "      <td>0.005282</td>\n",
       "      <td>0.006191</td>\n",
       "    </tr>\n",
       "    <tr>\n",
       "      <th>student</th>\n",
       "      <td>-0.646776</td>\n",
       "      <td>0.236257</td>\n",
       "      <td>-2.737595</td>\n",
       "      <td>6.189022e-03</td>\n",
       "      <td>-1.109831</td>\n",
       "      <td>-0.183721</td>\n",
       "    </tr>\n",
       "  </tbody>\n",
       "</table>\n",
       "</div>"
      ],
      "text/plain": [
       "               Coef.  Std.Err.          z          P>|z|     [0.025    0.975]\n",
       "Intercept -10.869045  0.492273 -22.079320  4.995499e-108 -11.833882 -9.904209\n",
       "income      0.000003  0.000008   0.369808   7.115254e-01  -0.000013  0.000019\n",
       "balance     0.005737  0.000232  24.736506  4.331521e-135   0.005282  0.006191\n",
       "student    -0.646776  0.236257  -2.737595   6.189022e-03  -1.109831 -0.183721"
      ]
     },
     "metadata": {},
     "output_type": "display_data"
    }
   ],
   "source": [
    "print(\"Test error of cross validation\", testerrorvalue)\n",
    "print(\"Test error of cross validation with students\", testerrorvalue_withstudents)\n",
    "\n",
    "# Correlation \n",
    "rho = default.corr()\n",
    "pval = default.corr(method=lambda x, y: pearsonr(x, y)[1]) - np.eye(*rho.shape)\n",
    "p = pval.applymap(lambda x: ''.join(['*' for t in [0.01,0.05,0.1] if x<=t]))\n",
    "display(rho.round(2).astype(str) + p) \n",
    "# significant negative linear relationship between student and income (rho=-0.75)\n",
    "\n",
    "# Model including student variable\n",
    "estimate3 = smf.logit('default ~  income + balance + student', data=default).fit()\n",
    "display(estimate3.summary2().tables[1])\n",
    "\n"
   ]
  },
  {
   "cell_type": "markdown",
   "metadata": {},
   "source": [
    "correlation 출처: https://stackoverflow.com/questions/25571882/pandas-columns-correlation-with-statistical-significance"
   ]
  },
  {
   "cell_type": "markdown",
   "metadata": {},
   "source": [
    "# 3. Question 3\n",
    "[40 pts] In this problem, you will predict the number of applications received using the other variables in the College data set attached in the assignment (College.csv).\n"
   ]
  },
  {
   "cell_type": "markdown",
   "metadata": {},
   "source": [
    "## Loading Dataset"
   ]
  },
  {
   "cell_type": "code",
   "execution_count": null,
   "metadata": {},
   "outputs": [
    {
     "data": {
      "text/html": [
       "<div>\n",
       "<style scoped>\n",
       "    .dataframe tbody tr th:only-of-type {\n",
       "        vertical-align: middle;\n",
       "    }\n",
       "\n",
       "    .dataframe tbody tr th {\n",
       "        vertical-align: top;\n",
       "    }\n",
       "\n",
       "    .dataframe thead th {\n",
       "        text-align: right;\n",
       "    }\n",
       "</style>\n",
       "<table border=\"1\" class=\"dataframe\">\n",
       "  <thead>\n",
       "    <tr style=\"text-align: right;\">\n",
       "      <th></th>\n",
       "      <th>Unnamed: 0</th>\n",
       "      <th>Private</th>\n",
       "      <th>Apps</th>\n",
       "      <th>Accept</th>\n",
       "      <th>Enroll</th>\n",
       "      <th>Top10perc</th>\n",
       "      <th>Top25perc</th>\n",
       "      <th>F.Undergrad</th>\n",
       "      <th>P.Undergrad</th>\n",
       "      <th>Outstate</th>\n",
       "      <th>Room.Board</th>\n",
       "      <th>Books</th>\n",
       "      <th>Personal</th>\n",
       "      <th>PhD</th>\n",
       "      <th>Terminal</th>\n",
       "      <th>S.F.Ratio</th>\n",
       "      <th>perc.alumni</th>\n",
       "      <th>Expend</th>\n",
       "      <th>Grad.Rate</th>\n",
       "    </tr>\n",
       "  </thead>\n",
       "  <tbody>\n",
       "    <tr>\n",
       "      <th>0</th>\n",
       "      <td>Abilene Christian University</td>\n",
       "      <td>Yes</td>\n",
       "      <td>1660</td>\n",
       "      <td>1232</td>\n",
       "      <td>721</td>\n",
       "      <td>23</td>\n",
       "      <td>52</td>\n",
       "      <td>2885</td>\n",
       "      <td>537</td>\n",
       "      <td>7440</td>\n",
       "      <td>3300</td>\n",
       "      <td>450</td>\n",
       "      <td>2200</td>\n",
       "      <td>70</td>\n",
       "      <td>78</td>\n",
       "      <td>18.1</td>\n",
       "      <td>12</td>\n",
       "      <td>7041</td>\n",
       "      <td>60</td>\n",
       "    </tr>\n",
       "    <tr>\n",
       "      <th>1</th>\n",
       "      <td>Adelphi University</td>\n",
       "      <td>Yes</td>\n",
       "      <td>2186</td>\n",
       "      <td>1924</td>\n",
       "      <td>512</td>\n",
       "      <td>16</td>\n",
       "      <td>29</td>\n",
       "      <td>2683</td>\n",
       "      <td>1227</td>\n",
       "      <td>12280</td>\n",
       "      <td>6450</td>\n",
       "      <td>750</td>\n",
       "      <td>1500</td>\n",
       "      <td>29</td>\n",
       "      <td>30</td>\n",
       "      <td>12.2</td>\n",
       "      <td>16</td>\n",
       "      <td>10527</td>\n",
       "      <td>56</td>\n",
       "    </tr>\n",
       "    <tr>\n",
       "      <th>2</th>\n",
       "      <td>Adrian College</td>\n",
       "      <td>Yes</td>\n",
       "      <td>1428</td>\n",
       "      <td>1097</td>\n",
       "      <td>336</td>\n",
       "      <td>22</td>\n",
       "      <td>50</td>\n",
       "      <td>1036</td>\n",
       "      <td>99</td>\n",
       "      <td>11250</td>\n",
       "      <td>3750</td>\n",
       "      <td>400</td>\n",
       "      <td>1165</td>\n",
       "      <td>53</td>\n",
       "      <td>66</td>\n",
       "      <td>12.9</td>\n",
       "      <td>30</td>\n",
       "      <td>8735</td>\n",
       "      <td>54</td>\n",
       "    </tr>\n",
       "    <tr>\n",
       "      <th>3</th>\n",
       "      <td>Agnes Scott College</td>\n",
       "      <td>Yes</td>\n",
       "      <td>417</td>\n",
       "      <td>349</td>\n",
       "      <td>137</td>\n",
       "      <td>60</td>\n",
       "      <td>89</td>\n",
       "      <td>510</td>\n",
       "      <td>63</td>\n",
       "      <td>12960</td>\n",
       "      <td>5450</td>\n",
       "      <td>450</td>\n",
       "      <td>875</td>\n",
       "      <td>92</td>\n",
       "      <td>97</td>\n",
       "      <td>7.7</td>\n",
       "      <td>37</td>\n",
       "      <td>19016</td>\n",
       "      <td>59</td>\n",
       "    </tr>\n",
       "    <tr>\n",
       "      <th>4</th>\n",
       "      <td>Alaska Pacific University</td>\n",
       "      <td>Yes</td>\n",
       "      <td>193</td>\n",
       "      <td>146</td>\n",
       "      <td>55</td>\n",
       "      <td>16</td>\n",
       "      <td>44</td>\n",
       "      <td>249</td>\n",
       "      <td>869</td>\n",
       "      <td>7560</td>\n",
       "      <td>4120</td>\n",
       "      <td>800</td>\n",
       "      <td>1500</td>\n",
       "      <td>76</td>\n",
       "      <td>72</td>\n",
       "      <td>11.9</td>\n",
       "      <td>2</td>\n",
       "      <td>10922</td>\n",
       "      <td>15</td>\n",
       "    </tr>\n",
       "  </tbody>\n",
       "</table>\n",
       "</div>"
      ],
      "text/plain": [
       "                     Unnamed: 0 Private  Apps  Accept  Enroll  Top10perc  \\\n",
       "0  Abilene Christian University     Yes  1660    1232     721         23   \n",
       "1            Adelphi University     Yes  2186    1924     512         16   \n",
       "2                Adrian College     Yes  1428    1097     336         22   \n",
       "3           Agnes Scott College     Yes   417     349     137         60   \n",
       "4     Alaska Pacific University     Yes   193     146      55         16   \n",
       "\n",
       "   Top25perc  F.Undergrad  P.Undergrad  Outstate  Room.Board  Books  Personal  \\\n",
       "0         52         2885          537      7440        3300    450      2200   \n",
       "1         29         2683         1227     12280        6450    750      1500   \n",
       "2         50         1036           99     11250        3750    400      1165   \n",
       "3         89          510           63     12960        5450    450       875   \n",
       "4         44          249          869      7560        4120    800      1500   \n",
       "\n",
       "   PhD  Terminal  S.F.Ratio  perc.alumni  Expend  Grad.Rate  \n",
       "0   70        78       18.1           12    7041         60  \n",
       "1   29        30       12.2           16   10527         56  \n",
       "2   53        66       12.9           30    8735         54  \n",
       "3   92        97        7.7           37   19016         59  \n",
       "4   76        72       11.9            2   10922         15  "
      ]
     },
     "metadata": {},
     "output_type": "display_data"
    },
    {
     "name": "stdout",
     "output_type": "stream",
     "text": [
      "Total missing variable:  0\n"
     ]
    }
   ],
   "source": [
    "#| column: screen-inset-shaded\n",
    "import random\n",
    "random.seed(2022)\n",
    "\n",
    "# Read Dataset\n",
    "college=pd.read_csv(\"College.csv\")\n",
    "display(college.head(5))\n",
    "# Check if there is missing value\n",
    "print(\"Total missing variable: \", college.isnull().sum().sum()) # no missing value"
   ]
  },
  {
   "cell_type": "markdown",
   "metadata": {},
   "source": [
    "Randomly split the data set into a training set and a test set by 90:10 ratio. <br>\n",
    "Data description: https://www.kaggle.com/faressayah/college-data "
   ]
  },
  {
   "cell_type": "code",
   "execution_count": null,
   "metadata": {},
   "outputs": [
    {
     "name": "stdout",
     "output_type": "stream",
     "text": [
      "<class 'pandas.core.frame.DataFrame'>\n",
      "RangeIndex: 777 entries, 0 to 776\n",
      "Data columns (total 19 columns):\n",
      " #   Column       Non-Null Count  Dtype  \n",
      "---  ------       --------------  -----  \n",
      " 0   Unnamed: 0   777 non-null    object \n",
      " 1   Private      777 non-null    object \n",
      " 2   Apps         777 non-null    int64  \n",
      " 3   Accept       777 non-null    int64  \n",
      " 4   Enroll       777 non-null    int64  \n",
      " 5   Top10perc    777 non-null    int64  \n",
      " 6   Top25perc    777 non-null    int64  \n",
      " 7   F.Undergrad  777 non-null    int64  \n",
      " 8   P.Undergrad  777 non-null    int64  \n",
      " 9   Outstate     777 non-null    int64  \n",
      " 10  Room.Board   777 non-null    int64  \n",
      " 11  Books        777 non-null    int64  \n",
      " 12  Personal     777 non-null    int64  \n",
      " 13  PhD          777 non-null    int64  \n",
      " 14  Terminal     777 non-null    int64  \n",
      " 15  S.F.Ratio    777 non-null    float64\n",
      " 16  perc.alumni  777 non-null    int64  \n",
      " 17  Expend       777 non-null    int64  \n",
      " 18  Grad.Rate    777 non-null    int64  \n",
      "dtypes: float64(1), int64(16), object(2)\n",
      "memory usage: 115.5+ KB\n"
     ]
    }
   ],
   "source": [
    "college.info()"
   ]
  },
  {
   "cell_type": "code",
   "execution_count": null,
   "metadata": {},
   "outputs": [
    {
     "data": {
      "text/plain": [
       "1    565\n",
       "0    212\n",
       "Name: Private, dtype: int64"
      ]
     },
     "metadata": {},
     "output_type": "display_data"
    }
   ],
   "source": [
    "# Make dummy variable - No=0, Yes=1\n",
    "# Priavate: A factor with levels Yes and No indicating private or public university\n",
    "college.Private=pd.get_dummies(college.Private, drop_first=True)\n",
    "display(college['Private'].value_counts())"
   ]
  },
  {
   "cell_type": "code",
   "execution_count": null,
   "metadata": {},
   "outputs": [],
   "source": [
    "# Accept: Number of applications accepted\n",
    "y=college.iloc[:,3]\n",
    "\n",
    "# Sclaing - Standardization of Predictors\n",
    "scaler = StandardScaler()  \n",
    "train_col=np.array(college.columns)\n",
    "x1 = college[np.delete(train_col,[0,3]).tolist()]\n",
    "\n",
    "x=pd.DataFrame(scaler.fit_transform(x1[x1.columns[range(1,x1.shape[1])]].to_numpy()))\n",
    "x.columns=x1.columns[range(1,x1.shape[1])]\n",
    "x.insert(loc=0,column=\"Private\", value=x1[\"Private\"])\n",
    "\n",
    "# train test split\n",
    "x_train, x_test, y_train, y_test = train_test_split(x, y, test_size=0.1, shuffle=True)"
   ]
  },
  {
   "cell_type": "markdown",
   "metadata": {},
   "source": [
    "Ridge: \n",
    "$$ \\sum_{i=1}^{n} (y_i-\\beta_0-\\sum_{j=1}^p \\beta_j x_{ij})^2 + \\lambda \\sum_{j=1}^p \\beta_j^2 = RSS + \\lambda \\sum_{j=1}^p \\beta_j^2 $$\n",
    "\n",
    "Lasso: \n",
    "$$ \\sum_{i=1}^{n} (y_i-\\beta_0-\\sum_{j=1}^p \\beta_j x_{ij})^2 + \\lambda \\sum_{j=1}^p |\\beta_j| = RSS + \\lambda \\sum_{j=1}^p |\\beta_j| $$\n",
    "\n",
    "In this sense, $\\hat{\\beta^R_{i,j}}$ will depend not only on the value of $\\lambda$, but also on the scaling of the jth predictor (and other predictors). (RSS + $\\beta$) <br>\n",
    "Therefore, it is best to apply ridge regression after $standardizing\\,the\\,predictors$ using the formula \n",
    "$$\\tilde{x_{ij}}=\\frac{x_ij}{\\sqrt{\\frac{1}{n} \\sum_{i=1}^n(\\bar{x_{ij}}-\\bar{x_j})^2}}$$ \n",
    "(ISLR, p. 239)"
   ]
  },
  {
   "cell_type": "code",
   "execution_count": null,
   "metadata": {},
   "outputs": [
    {
     "name": "stdout",
     "output_type": "stream",
     "text": [
      "# of rows:  777\n",
      "# of train rows:  699\n",
      "# of test rows:  78\n"
     ]
    }
   ],
   "source": [
    "# Dataframe Dimensions\n",
    "print(\"# of rows: \", college.shape[0])\n",
    "print(\"# of train rows: \", x_train.shape[0])\n",
    "print(\"# of test rows: \", x_test.shape[0])"
   ]
  },
  {
   "cell_type": "markdown",
   "metadata": {},
   "source": [
    "## (a)\n",
    "[10 pts] Fit a linear model using least squares on the training set, and report the test error obtained.\n"
   ]
  },
  {
   "cell_type": "markdown",
   "metadata": {},
   "source": [
    "The test error was calculated using Mean Squared Error\n",
    "$$ MSE_{train} = \\frac{1}{699} \\sum_{i=1}^{699} (\\hat{Y_i} - Y_i)^2$$\n",
    "$$ MSE_{test} = \\frac{1}{78} \\sum_{i=1}^{78} (\\hat{Y_i} - Y_i)^2$$ \n"
   ]
  },
  {
   "cell_type": "markdown",
   "metadata": {},
   "source": [
    "Linear Regression: scale equivariant - multiplying $X_j$ by a constant $c$ simply leads to a scale equivariant scaling of the least squares coefficient estimates by a factor of $\\frac{1}{c}$. In other words, regardless of how the $j_th$ predictor is scaled, $X_{j}\\beta_j$ will remain the same (ISLR, p. 239). Therefore, this assignment going to use standardized predictors for the model (for convenience)."
   ]
  },
  {
   "cell_type": "code",
   "execution_count": null,
   "metadata": {},
   "outputs": [
    {
     "name": "stdout",
     "output_type": "stream",
     "text": [
      "Training R squared:  0.952\n",
      "Test R squared:  0.963\n",
      "Training Error:  291415.502\n",
      "Test Error:  192960.565\n",
      "Test Error:  192960.565\n"
     ]
    }
   ],
   "source": [
    "# Model \n",
    "regr=LinearRegression()\n",
    "\n",
    "model_ols= regr.fit(x_train,y_train)\n",
    "\n",
    "y_train_pred=model_ols.predict(x_train)\n",
    "y_test_pred=model_ols.predict(x_test)\n",
    "\n",
    "print(\"Training R squared: \", round(regr.score(x_train,y_train),3))\n",
    "print(\"Test R squared: \", round(regr.score(x_test,y_test),3))\n",
    "\n",
    "print(\"Training Error: \", round(np.mean((y_train_pred-y_train)**2),3))\n",
    "print(\"Test Error: \", round(np.mean((y_test_pred-y_test)**2),3))\n",
    "print(\"Test Error: \", round(mean_squared_error(y_test_pred,y_test),3)) # alternate way "
   ]
  },
  {
   "cell_type": "markdown",
   "metadata": {},
   "source": [
    "## (b)\n",
    "[10 pts] Fit a ridge regression model on the training set, with λ chosen by 10-fold cross-validation. Report the test error obtained."
   ]
  },
  {
   "cell_type": "code",
   "execution_count": null,
   "metadata": {},
   "outputs": [
    {
     "name": "stdout",
     "output_type": "stream",
     "text": [
      "Training Error:  291472.521\n",
      "Test Error:  191707.194\n"
     ]
    }
   ],
   "source": [
    "# ridge regression with default λ=1.0\n",
    "ridreg = Ridge()\n",
    "model_ridge=ridreg.fit(x_train, y_train)\n",
    "\n",
    "y_train_pred=model_ridge.predict(x_train)\n",
    "y_test_pred=model_ridge.predict(x_test)\n",
    "print(\"Training Error: \", round(mean_squared_error(y_train_pred,y_train),3))  \n",
    "print(\"Test Error: \", round(mean_squared_error(y_test_pred,y_test),3))"
   ]
  },
  {
   "cell_type": "code",
   "execution_count": null,
   "metadata": {},
   "outputs": [
    {
     "name": "stdout",
     "output_type": "stream",
     "text": [
      "Training Error (with 10 folds):  293156.156\n",
      "Test Error (with 10 folds):  186375.172\n",
      "Training R Squared:  0.95\n",
      "Testing R Squared:  0.96\n",
      "Optimal Lambda:  6.400000000000004\n",
      "Coefficients:  [ 154.40316381 1606.59850184  942.98496287 -488.95762002  187.39331727\n",
      "   63.85717783  -67.20841469  260.99875502  -16.86522954    4.24805295\n",
      "  -32.17722811   75.26537243   12.02353776  -22.46635632  -83.30446315\n",
      " -161.72446977  -18.19291394]\n"
     ]
    }
   ],
   "source": [
    "# ridge regression with 10-fold cross validation\n",
    "k_fold=KFold(n_splits = 10, shuffle = True, random_state=2022) # set random seed\n",
    "\n",
    "# lambdas = np.arange(1,100, 1)\n",
    "# lambdas = np.arange(1,20, 0.5) \n",
    "lambdas = np.arange(2,10, 0.1)   \n",
    "\n",
    "# ridge\n",
    "ridreg_cv = RidgeCV(alphas=lambdas, cv=k_fold) \n",
    "model_ridge_cv=ridreg_cv.fit(x_train, y_train)\n",
    "\n",
    "y_train_pred=model_ridge_cv.predict(x_train)\n",
    "y_test_pred=model_ridge_cv.predict(x_test)\n",
    "\n",
    "print(\"Training Error (with 10 folds): \", round(mean_squared_error(y_train_pred,y_train),3))  \n",
    "print(\"Test Error (with 10 folds): \", round(mean_squared_error(y_test_pred,y_test),3))\n",
    "\n",
    "print(\"Training R Squared: \", round(r2_score(y_train, y_train_pred),2))\n",
    "print(\"Testing R Squared: \", round(r2_score(y_test, y_test_pred),2))\n",
    "print(\"Optimal Lambda: \", model_ridge_cv.alpha_)\n",
    "print(\"Coefficients: \", model_ridge_cv.coef_)"
   ]
  },
  {
   "cell_type": "code",
   "execution_count": null,
   "metadata": {},
   "outputs": [
    {
     "data": {
      "text/html": [
       "<div>\n",
       "<style scoped>\n",
       "    .dataframe tbody tr th:only-of-type {\n",
       "        vertical-align: middle;\n",
       "    }\n",
       "\n",
       "    .dataframe tbody tr th {\n",
       "        vertical-align: top;\n",
       "    }\n",
       "\n",
       "    .dataframe thead th {\n",
       "        text-align: right;\n",
       "    }\n",
       "</style>\n",
       "<table border=\"1\" class=\"dataframe\">\n",
       "  <thead>\n",
       "    <tr style=\"text-align: right;\">\n",
       "      <th></th>\n",
       "      <th>Variable</th>\n",
       "      <th>Coefficients</th>\n",
       "    </tr>\n",
       "  </thead>\n",
       "  <tbody>\n",
       "    <tr>\n",
       "      <th>0</th>\n",
       "      <td>Private</td>\n",
       "      <td>154.403164</td>\n",
       "    </tr>\n",
       "    <tr>\n",
       "      <th>1</th>\n",
       "      <td>Apps</td>\n",
       "      <td>1606.598502</td>\n",
       "    </tr>\n",
       "    <tr>\n",
       "      <th>2</th>\n",
       "      <td>Enroll</td>\n",
       "      <td>942.984963</td>\n",
       "    </tr>\n",
       "    <tr>\n",
       "      <th>3</th>\n",
       "      <td>Top10perc</td>\n",
       "      <td>-488.957620</td>\n",
       "    </tr>\n",
       "    <tr>\n",
       "      <th>4</th>\n",
       "      <td>Top25perc</td>\n",
       "      <td>187.393317</td>\n",
       "    </tr>\n",
       "    <tr>\n",
       "      <th>5</th>\n",
       "      <td>F.Undergrad</td>\n",
       "      <td>63.857178</td>\n",
       "    </tr>\n",
       "    <tr>\n",
       "      <th>6</th>\n",
       "      <td>P.Undergrad</td>\n",
       "      <td>-67.208415</td>\n",
       "    </tr>\n",
       "    <tr>\n",
       "      <th>7</th>\n",
       "      <td>Outstate</td>\n",
       "      <td>260.998755</td>\n",
       "    </tr>\n",
       "    <tr>\n",
       "      <th>8</th>\n",
       "      <td>Room.Board</td>\n",
       "      <td>-16.865230</td>\n",
       "    </tr>\n",
       "    <tr>\n",
       "      <th>9</th>\n",
       "      <td>Books</td>\n",
       "      <td>4.248053</td>\n",
       "    </tr>\n",
       "    <tr>\n",
       "      <th>10</th>\n",
       "      <td>Personal</td>\n",
       "      <td>-32.177228</td>\n",
       "    </tr>\n",
       "    <tr>\n",
       "      <th>11</th>\n",
       "      <td>PhD</td>\n",
       "      <td>75.265372</td>\n",
       "    </tr>\n",
       "    <tr>\n",
       "      <th>12</th>\n",
       "      <td>Terminal</td>\n",
       "      <td>12.023538</td>\n",
       "    </tr>\n",
       "    <tr>\n",
       "      <th>13</th>\n",
       "      <td>S.F.Ratio</td>\n",
       "      <td>-22.466356</td>\n",
       "    </tr>\n",
       "    <tr>\n",
       "      <th>14</th>\n",
       "      <td>perc.alumni</td>\n",
       "      <td>-83.304463</td>\n",
       "    </tr>\n",
       "    <tr>\n",
       "      <th>15</th>\n",
       "      <td>Expend</td>\n",
       "      <td>-161.724470</td>\n",
       "    </tr>\n",
       "    <tr>\n",
       "      <th>16</th>\n",
       "      <td>Grad.Rate</td>\n",
       "      <td>-18.192914</td>\n",
       "    </tr>\n",
       "  </tbody>\n",
       "</table>\n",
       "</div>"
      ],
      "text/plain": [
       "       Variable  Coefficients\n",
       "0       Private    154.403164\n",
       "1          Apps   1606.598502\n",
       "2        Enroll    942.984963\n",
       "3     Top10perc   -488.957620\n",
       "4     Top25perc    187.393317\n",
       "5   F.Undergrad     63.857178\n",
       "6   P.Undergrad    -67.208415\n",
       "7      Outstate    260.998755\n",
       "8    Room.Board    -16.865230\n",
       "9         Books      4.248053\n",
       "10     Personal    -32.177228\n",
       "11          PhD     75.265372\n",
       "12     Terminal     12.023538\n",
       "13    S.F.Ratio    -22.466356\n",
       "14  perc.alumni    -83.304463\n",
       "15       Expend   -161.724470\n",
       "16    Grad.Rate    -18.192914"
      ]
     },
     "metadata": {},
     "output_type": "display_data"
    }
   ],
   "source": [
    "# Coefficients with λ=6.41\n",
    "display(pd.DataFrame({\"Variable\":x_train.columns,\"Coefficients\":model_ridge_cv.coef_}))"
   ]
  },
  {
   "cell_type": "code",
   "execution_count": null,
   "metadata": {},
   "outputs": [
    {
     "name": "stdout",
     "output_type": "stream",
     "text": [
      "Training Error:  293160.8\n",
      "Test Error:  186366.688\n"
     ]
    }
   ],
   "source": [
    "# ridge regression with optimal λ=6.41\n",
    "ridreg = Ridge(alpha=6.41)\n",
    "model_ridge=ridreg.fit(x_train, y_train)\n",
    "\n",
    "y_train_pred=model_ridge.predict(x_train)\n",
    "y_test_pred=model_ridge.predict(x_test)\n",
    "print(\"Training Error: \", round(mean_squared_error(y_train_pred,y_train),3))  \n",
    "print(\"Test Error: \", round(mean_squared_error(y_test_pred,y_test),3))"
   ]
  },
  {
   "cell_type": "markdown",
   "metadata": {},
   "source": [
    "## (c)\n",
    "[10 pts] Fit a lasso model on the training set, with λ chosen by 10-fold crossvalidation. Report the test error obtained, along with the number of non-zero\n",
    "coefficient estimates."
   ]
  },
  {
   "cell_type": "code",
   "execution_count": null,
   "metadata": {},
   "outputs": [
    {
     "name": "stdout",
     "output_type": "stream",
     "text": [
      "Training Error:  291537.881\n",
      "Test Error:  190072.628\n"
     ]
    }
   ],
   "source": [
    "# lasso regression with default λ=1.0\n",
    "lassoreg = Lasso()\n",
    "model_lasso=lassoreg.fit(x_train, y_train)\n",
    "\n",
    "y_train_pred=model_lasso.predict(x_train)\n",
    "y_test_pred=model_lasso.predict(x_test)\n",
    "print(\"Training Error: \", round(mean_squared_error(y_train_pred,y_train),3))  \n",
    "print(\"Test Error: \", round(mean_squared_error(y_test_pred,y_test),3))"
   ]
  },
  {
   "cell_type": "code",
   "execution_count": null,
   "metadata": {},
   "outputs": [
    {
     "name": "stdout",
     "output_type": "stream",
     "text": [
      "Training Error (with 10 folds):  292747.201\n",
      "Test Error (with 10 folds):  181011.81\n",
      "Training R Squared:  0.95\n",
      "Testing R Squared:  0.97\n",
      "Optimal Lambda:  4.0\n",
      "Coefficients:  [ 126.65222298 1632.17789857  979.5277818  -487.43215826  179.97073683\n",
      "   -0.          -61.36589383  252.50632841   -8.20028126    0.\n",
      "  -25.42427626   69.09512846    6.55921777  -15.98829039  -71.29649584\n",
      " -156.34592682  -13.15656712]\n"
     ]
    }
   ],
   "source": [
    "# ridge regression with 10-fold cross validation\n",
    "k_fold=KFold(n_splits = 10, shuffle = True,random_state=2022) # set random seed\n",
    "max_iter = 15000\n",
    "\n",
    "# lambdas = np.arange(0.1,10,0.01) # Smallest Test Error calculated at 2.97 \n",
    "lambdas = np.arange(4,50,0.1) \n",
    "    \n",
    "lassoreg_cv = LassoCV(alphas=lambdas, cv=k_fold, max_iter=max_iter) \n",
    "model_lasso_cv=lassoreg_cv.fit(x_train, y_train)\n",
    "\n",
    "y_train_pred=model_lasso_cv.predict(x_train)\n",
    "y_test_pred=model_lasso_cv.predict(x_test)\n",
    "\n",
    "print(\"Training Error (with 10 folds): \", round(mean_squared_error(y_train_pred,y_train),3))  \n",
    "print(\"Test Error (with 10 folds): \", round(mean_squared_error(y_test_pred,y_test),3))\n",
    "\n",
    "print(\"Training R Squared: \", round(r2_score(y_train, y_train_pred),2))\n",
    "print(\"Testing R Squared: \", round(r2_score(y_test, y_test_pred),2))\n",
    "print(\"Optimal Lambda: \", model_lasso_cv.alpha_)\n",
    "print(\"Coefficients: \", model_lasso_cv.coef_)"
   ]
  },
  {
   "cell_type": "markdown",
   "metadata": {},
   "source": [
    "FYI: https://scikit-learn.org/stable/modules/grid_search.html#specifying-an-objective-metric <br>\n",
    "By default, parameter search uses the score function of the estimator to evaluate a parameter setting. (sklearn.metrics.r2_score for regression)"
   ]
  },
  {
   "cell_type": "markdown",
   "metadata": {},
   "source": [
    "Even though the 10-fold cross-validation r2 score is lowest when $\\lambda=3$, I chose the lambda with less r2 score. Since the purpose of using lasso regression is selecting features (variable selection), lower lambdas are not estimating coefficients with 0. (so I used lambda with 4 which is closest to optimal lambda with some feature's coefficients are exactly equal to zero)"
   ]
  },
  {
   "cell_type": "code",
   "execution_count": null,
   "metadata": {},
   "outputs": [
    {
     "data": {
      "text/html": [
       "<div>\n",
       "<style scoped>\n",
       "    .dataframe tbody tr th:only-of-type {\n",
       "        vertical-align: middle;\n",
       "    }\n",
       "\n",
       "    .dataframe tbody tr th {\n",
       "        vertical-align: top;\n",
       "    }\n",
       "\n",
       "    .dataframe thead th {\n",
       "        text-align: right;\n",
       "    }\n",
       "</style>\n",
       "<table border=\"1\" class=\"dataframe\">\n",
       "  <thead>\n",
       "    <tr style=\"text-align: right;\">\n",
       "      <th></th>\n",
       "      <th>Variable</th>\n",
       "      <th>Coefficients</th>\n",
       "    </tr>\n",
       "  </thead>\n",
       "  <tbody>\n",
       "    <tr>\n",
       "      <th>0</th>\n",
       "      <td>Private</td>\n",
       "      <td>126.652</td>\n",
       "    </tr>\n",
       "    <tr>\n",
       "      <th>1</th>\n",
       "      <td>Apps</td>\n",
       "      <td>1632.178</td>\n",
       "    </tr>\n",
       "    <tr>\n",
       "      <th>2</th>\n",
       "      <td>Enroll</td>\n",
       "      <td>979.528</td>\n",
       "    </tr>\n",
       "    <tr>\n",
       "      <th>3</th>\n",
       "      <td>Top10perc</td>\n",
       "      <td>-487.432</td>\n",
       "    </tr>\n",
       "    <tr>\n",
       "      <th>4</th>\n",
       "      <td>Top25perc</td>\n",
       "      <td>179.971</td>\n",
       "    </tr>\n",
       "    <tr>\n",
       "      <th>5</th>\n",
       "      <td>F.Undergrad</td>\n",
       "      <td>-0.000</td>\n",
       "    </tr>\n",
       "    <tr>\n",
       "      <th>6</th>\n",
       "      <td>P.Undergrad</td>\n",
       "      <td>-61.366</td>\n",
       "    </tr>\n",
       "    <tr>\n",
       "      <th>7</th>\n",
       "      <td>Outstate</td>\n",
       "      <td>252.506</td>\n",
       "    </tr>\n",
       "    <tr>\n",
       "      <th>8</th>\n",
       "      <td>Room.Board</td>\n",
       "      <td>-8.200</td>\n",
       "    </tr>\n",
       "    <tr>\n",
       "      <th>9</th>\n",
       "      <td>Books</td>\n",
       "      <td>0.000</td>\n",
       "    </tr>\n",
       "    <tr>\n",
       "      <th>10</th>\n",
       "      <td>Personal</td>\n",
       "      <td>-25.424</td>\n",
       "    </tr>\n",
       "    <tr>\n",
       "      <th>11</th>\n",
       "      <td>PhD</td>\n",
       "      <td>69.095</td>\n",
       "    </tr>\n",
       "    <tr>\n",
       "      <th>12</th>\n",
       "      <td>Terminal</td>\n",
       "      <td>6.559</td>\n",
       "    </tr>\n",
       "    <tr>\n",
       "      <th>13</th>\n",
       "      <td>S.F.Ratio</td>\n",
       "      <td>-15.988</td>\n",
       "    </tr>\n",
       "    <tr>\n",
       "      <th>14</th>\n",
       "      <td>perc.alumni</td>\n",
       "      <td>-71.296</td>\n",
       "    </tr>\n",
       "    <tr>\n",
       "      <th>15</th>\n",
       "      <td>Expend</td>\n",
       "      <td>-156.346</td>\n",
       "    </tr>\n",
       "    <tr>\n",
       "      <th>16</th>\n",
       "      <td>Grad.Rate</td>\n",
       "      <td>-13.157</td>\n",
       "    </tr>\n",
       "  </tbody>\n",
       "</table>\n",
       "</div>"
      ],
      "text/plain": [
       "       Variable  Coefficients\n",
       "0       Private       126.652\n",
       "1          Apps      1632.178\n",
       "2        Enroll       979.528\n",
       "3     Top10perc      -487.432\n",
       "4     Top25perc       179.971\n",
       "5   F.Undergrad        -0.000\n",
       "6   P.Undergrad       -61.366\n",
       "7      Outstate       252.506\n",
       "8    Room.Board        -8.200\n",
       "9         Books         0.000\n",
       "10     Personal       -25.424\n",
       "11          PhD        69.095\n",
       "12     Terminal         6.559\n",
       "13    S.F.Ratio       -15.988\n",
       "14  perc.alumni       -71.296\n",
       "15       Expend      -156.346\n",
       "16    Grad.Rate       -13.157"
      ]
     },
     "metadata": {},
     "output_type": "display_data"
    },
    {
     "name": "stdout",
     "output_type": "stream",
     "text": [
      "Training Error (with 10 folds):  292747.201\n",
      "Test Error (with 10 folds):  181011.81 \n",
      "\n",
      "Variables selected\n"
     ]
    },
    {
     "data": {
      "text/html": [
       "<div>\n",
       "<style scoped>\n",
       "    .dataframe tbody tr th:only-of-type {\n",
       "        vertical-align: middle;\n",
       "    }\n",
       "\n",
       "    .dataframe tbody tr th {\n",
       "        vertical-align: top;\n",
       "    }\n",
       "\n",
       "    .dataframe thead th {\n",
       "        text-align: right;\n",
       "    }\n",
       "</style>\n",
       "<table border=\"1\" class=\"dataframe\">\n",
       "  <thead>\n",
       "    <tr style=\"text-align: right;\">\n",
       "      <th></th>\n",
       "      <th>Variable</th>\n",
       "      <th>Coefficients</th>\n",
       "    </tr>\n",
       "  </thead>\n",
       "  <tbody>\n",
       "    <tr>\n",
       "      <th>0</th>\n",
       "      <td>Private</td>\n",
       "      <td>126.652</td>\n",
       "    </tr>\n",
       "    <tr>\n",
       "      <th>1</th>\n",
       "      <td>Apps</td>\n",
       "      <td>1632.178</td>\n",
       "    </tr>\n",
       "    <tr>\n",
       "      <th>2</th>\n",
       "      <td>Enroll</td>\n",
       "      <td>979.528</td>\n",
       "    </tr>\n",
       "    <tr>\n",
       "      <th>3</th>\n",
       "      <td>Top10perc</td>\n",
       "      <td>-487.432</td>\n",
       "    </tr>\n",
       "    <tr>\n",
       "      <th>4</th>\n",
       "      <td>Top25perc</td>\n",
       "      <td>179.971</td>\n",
       "    </tr>\n",
       "    <tr>\n",
       "      <th>6</th>\n",
       "      <td>P.Undergrad</td>\n",
       "      <td>-61.366</td>\n",
       "    </tr>\n",
       "    <tr>\n",
       "      <th>7</th>\n",
       "      <td>Outstate</td>\n",
       "      <td>252.506</td>\n",
       "    </tr>\n",
       "    <tr>\n",
       "      <th>8</th>\n",
       "      <td>Room.Board</td>\n",
       "      <td>-8.200</td>\n",
       "    </tr>\n",
       "    <tr>\n",
       "      <th>10</th>\n",
       "      <td>Personal</td>\n",
       "      <td>-25.424</td>\n",
       "    </tr>\n",
       "    <tr>\n",
       "      <th>11</th>\n",
       "      <td>PhD</td>\n",
       "      <td>69.095</td>\n",
       "    </tr>\n",
       "    <tr>\n",
       "      <th>12</th>\n",
       "      <td>Terminal</td>\n",
       "      <td>6.559</td>\n",
       "    </tr>\n",
       "    <tr>\n",
       "      <th>13</th>\n",
       "      <td>S.F.Ratio</td>\n",
       "      <td>-15.988</td>\n",
       "    </tr>\n",
       "    <tr>\n",
       "      <th>14</th>\n",
       "      <td>perc.alumni</td>\n",
       "      <td>-71.296</td>\n",
       "    </tr>\n",
       "    <tr>\n",
       "      <th>15</th>\n",
       "      <td>Expend</td>\n",
       "      <td>-156.346</td>\n",
       "    </tr>\n",
       "    <tr>\n",
       "      <th>16</th>\n",
       "      <td>Grad.Rate</td>\n",
       "      <td>-13.157</td>\n",
       "    </tr>\n",
       "  </tbody>\n",
       "</table>\n",
       "</div>"
      ],
      "text/plain": [
       "       Variable  Coefficients\n",
       "0       Private       126.652\n",
       "1          Apps      1632.178\n",
       "2        Enroll       979.528\n",
       "3     Top10perc      -487.432\n",
       "4     Top25perc       179.971\n",
       "6   P.Undergrad       -61.366\n",
       "7      Outstate       252.506\n",
       "8    Room.Board        -8.200\n",
       "10     Personal       -25.424\n",
       "11          PhD        69.095\n",
       "12     Terminal         6.559\n",
       "13    S.F.Ratio       -15.988\n",
       "14  perc.alumni       -71.296\n",
       "15       Expend      -156.346\n",
       "16    Grad.Rate       -13.157"
      ]
     },
     "metadata": {},
     "output_type": "display_data"
    },
    {
     "name": "stdout",
     "output_type": "stream",
     "text": [
      "Variables not selected\n"
     ]
    },
    {
     "data": {
      "text/plain": [
       "array(['F.Undergrad', 'Books'], dtype=object)"
      ]
     },
     "metadata": {},
     "output_type": "display_data"
    }
   ],
   "source": [
    "# Coefficients with λ=4\n",
    "coefs=pd.DataFrame({\"Variable\":x_train.columns,\"Coefficients\":np.round(model_lasso_cv.coef_,3)})\n",
    "display(coefs)\n",
    "\n",
    "print(\"Training Error (with 10 folds): \", round(mean_squared_error(y_train_pred,y_train),3))  \n",
    "print(\"Test Error (with 10 folds): \", round(mean_squared_error(y_test_pred,y_test),3),\"\\n\")\n",
    "\n",
    "\n",
    "# Variables selected\n",
    "print(\"Variables selected\")\n",
    "display(coefs[coefs['Coefficients']!=0]) \n",
    "\n",
    "print(\"Variables not selected\")\n",
    "display(coefs[coefs['Coefficients']==0].Variable.to_numpy())"
   ]
  },
  {
   "cell_type": "markdown",
   "metadata": {},
   "source": [
    "Coefficients of variable \"F.Undergrad\", \"Books\" are equal to zero with lambda 4"
   ]
  },
  {
   "cell_type": "markdown",
   "metadata": {},
   "source": [
    "## (d)\n",
    "[10 pts] Comment on the results obtained.   "
   ]
  },
  {
   "cell_type": "markdown",
   "metadata": {},
   "source": [
    "- How accurately can you predict the number of college applications received? <br> \n",
    "- Is there much difference among the test errors resulting from these three approaches? <br>\n",
    "\n",
    "| Methods | Score | Value |\n",
    "| --- | --- | --- |\n",
    "|OLS |Test Mean Squared Error |  192960.565 |\n",
    "|Ridge | Test Mean Squared Error (with 10 folds) |  186366.688 |\n",
    "|Lasso | Test Mean Squared Error (with 10 folds + variable selection) |  181011.81 |\n",
    "\n",
    "The lowest mean squared error was calculated using Lasso regression with two variables' coeficients are equal to zero. The test error of Lasso is lower compared to OLS (11948.76), Ridge (6593.88)."
   ]
  },
  {
   "cell_type": "markdown",
   "metadata": {},
   "source": [
    "- Which model would you use?"
   ]
  },
  {
   "cell_type": "markdown",
   "metadata": {},
   "source": [
    "The ridge and lasso regression is a shirinkage methods that constrains and regularizes the coefficient estimates. It is true that these two models are improving the fit compared to OLS, but they are not without potential disadvantages. They comprised a unbiasedness of the OLS and reduce variance, which may result in overfitting. Therefore, with caution, the lasso regression would be selected. Lasso regression can be used as a techniques to selecting important predictors out of an comparatively less important predictors."
   ]
  }
 ],
 "metadata": {
  "kernelspec": {
   "display_name": "Python 3.9.13 ('sangwon')",
   "language": "python",
   "name": "python3"
  },
  "language_info": {
   "codemirror_mode": {
    "name": "ipython",
    "version": 3
   },
   "file_extension": ".py",
   "mimetype": "text/x-python",
   "name": "python",
   "nbconvert_exporter": "python",
   "pygments_lexer": "ipython3",
   "version": "3.9.13"
  },
  "orig_nbformat": 4,
  "vscode": {
   "interpreter": {
    "hash": "bae682e32284fbf211f0b4aefb7a0e37ec70f968d3818fa236ac5ae695ef2927"
   }
  }
 },
 "nbformat": 4,
 "nbformat_minor": 2
}
